{
 "cells": [
  {
   "cell_type": "markdown",
   "metadata": {},
   "source": [
    "# 🔬 DLNM Validation: Heat-Health Analysis\n",
    "\n",
    "## Simple, Working Implementation to Validate XAI 21-Day Finding\n",
    "\n",
    "Using base R to test if distributed lag models confirm your machine learning discovery.\n",
    "\n",
    "---"
   ]
  },
  {
   "cell_type": "code",
   "execution_count": 1,
   "metadata": {},
   "outputs": [
    {
     "name": "stdout",
     "output_type": "stream",
     "text": [
      "🔧 Setting up R environment...\n",
      "✅ R version: R version 4.3.1 (2023-06-16) \n",
      "✅ Libraries loaded successfully\n"
     ]
    }
   ],
   "source": [
    "# Step 1: Load libraries and check R setup\n",
    "cat(\"🔧 Setting up R environment...\\n\")\n",
    "library(splines)\n",
    "library(stats)\n",
    "\n",
    "cat(\"✅ R version:\", R.version.string, \"\\n\")\n",
    "cat(\"✅ Libraries loaded successfully\\n\")"
   ]
  },
  {
   "cell_type": "code",
   "execution_count": 2,
   "metadata": {},
   "outputs": [
    {
     "name": "stdout",
     "output_type": "stream",
     "text": [
      "📥 Loading dataset...\n",
      "Dataset size: 2334 rows × 178 columns\n",
      "\n",
      "🔍 Checking data quality...\n",
      "Temperature data available: 1249 cases\n",
      "Glucose data available: 1730 cases\n",
      "Both available: 1219 cases\n",
      "\n",
      "✅ Sufficient data for analysis\n",
      "\n",
      "Final clean dataset: 1219 complete cases\n",
      "Temperature range: 16.79 34.76 °C\n",
      "Glucose range: 0.95 29.76 \n"
     ]
    }
   ],
   "source": [
    "# Step 2: Load and examine the data\n",
    "cat(\"📥 Loading dataset...\\n\")\n",
    "\n",
    "# Load data\n",
    "df <- read.csv(\"/home/cparker/heat_analysis_optimized/data/enhanced_se_integrated/enhanced_se_high_quality.csv\")\n",
    "cat(\"Dataset size:\", nrow(df), \"rows ×\", ncol(df), \"columns\\n\")\n",
    "\n",
    "# Check the key variables from XAI analysis\n",
    "temp_col <- \"climate_temp_max_21d\"\n",
    "health_col <- \"std_glucose\"\n",
    "\n",
    "cat(\"\\n🔍 Checking data quality...\\n\")\n",
    "temp_available <- sum(!is.na(df[[temp_col]]))\n",
    "glucose_available <- sum(!is.na(df[[health_col]]))\n",
    "both_available <- sum(!is.na(df[[temp_col]]) & !is.na(df[[health_col]]))\n",
    "\n",
    "cat(\"Temperature data available:\", temp_available, \"cases\\n\")\n",
    "cat(\"Glucose data available:\", glucose_available, \"cases\\n\")\n",
    "cat(\"Both available:\", both_available, \"cases\\n\")\n",
    "\n",
    "if (both_available < 100) {\n",
    "    cat(\"\\n⚠️ Warning: Limited data available\\n\")\n",
    "} else {\n",
    "    cat(\"\\n✅ Sufficient data for analysis\\n\")\n",
    "}\n",
    "\n",
    "# Create clean dataset\n",
    "clean_data <- data.frame(\n",
    "    temp = df[[temp_col]],\n",
    "    glucose = df[[health_col]]\n",
    ")\n",
    "\n",
    "# Remove missing values\n",
    "clean_data <- clean_data[complete.cases(clean_data), ]\n",
    "cat(\"\\nFinal clean dataset:\", nrow(clean_data), \"complete cases\\n\")\n",
    "\n",
    "if (nrow(clean_data) > 0) {\n",
    "    cat(\"Temperature range:\", round(range(clean_data$temp), 2), \"°C\\n\")\n",
    "    cat(\"Glucose range:\", round(range(clean_data$glucose), 2), \"\\n\")\n",
    "}"
   ]
  },
  {
   "cell_type": "code",
   "execution_count": 3,
   "metadata": {},
   "outputs": [
    {
     "name": "stdout",
     "output_type": "stream",
     "text": [
      "🔧 Creating lag analysis functions...\n",
      "✅ Functions created\n"
     ]
    }
   ],
   "source": [
    "# Step 3: Simple lag analysis function\n",
    "cat(\"🔧 Creating lag analysis functions...\\n\")\n",
    "\n",
    "# Simple function to test different lag models\n",
    "test_lag_model <- function(temperature, outcome, lag_days) {\n",
    "    n <- length(temperature)\n",
    "    \n",
    "    if (lag_days == 0) {\n",
    "        # No lag - current temperature\n",
    "        model_data <- data.frame(temp = temperature, outcome = outcome)\n",
    "    } else {\n",
    "        # Create lagged temperature\n",
    "        temp_lagged <- c(rep(NA, lag_days), temperature[1:(n - lag_days)])\n",
    "        model_data <- data.frame(temp = temp_lagged, outcome = outcome)\n",
    "        model_data <- model_data[complete.cases(model_data), ]\n",
    "    }\n",
    "    \n",
    "    if (nrow(model_data) < 20) {\n",
    "        return(list(aic = NA, r2 = NA, n = 0))\n",
    "    }\n",
    "    \n",
    "    # Fit model with splines for non-linearity\n",
    "    model <- lm(outcome ~ ns(temp, df = 3), data = model_data)\n",
    "    \n",
    "    return(list(\n",
    "        aic = AIC(model),\n",
    "        r2 = summary(model)$r.squared,\n",
    "        n = nrow(model_data)\n",
    "    ))\n",
    "}\n",
    "\n",
    "cat(\"✅ Functions created\\n\")"
   ]
  },
  {
   "cell_type": "code",
   "execution_count": 4,
   "metadata": {},
   "outputs": [
    {
     "name": "stdout",
     "output_type": "stream",
     "text": [
      "🔬 Testing different lag windows...\n",
      "\n",
      "Lag  0 days: AIC =  4879.4, R² = 0.0082, n = 1219\n",
      "Lag  7 days: AIC =  4863.9, R² = 0.0007, n = 1212\n",
      "Lag 14 days: AIC =  4836.5, R² = 0.0031, n = 1205\n",
      "Lag 21 days: AIC =  4812.4, R² = 0.0033, n = 1198\n",
      "Lag 28 days: AIC =  4791.6, R² = 0.0022, n = 1191\n",
      "Lag 35 days: AIC =  4767.7, R² = 0.0027, n = 1184\n",
      "\n",
      "📊 Results summary:\n",
      "  lag_days      aic           r2 sample_size\n",
      "1        0 4879.355 0.0082086493        1219\n",
      "2        7 4863.907 0.0006890452        1212\n",
      "3       14 4836.497 0.0030658249        1205\n",
      "4       21 4812.441 0.0033397489        1198\n",
      "5       28 4791.578 0.0021672597        1191\n",
      "6       35 4767.707 0.0026839326        1184\n"
     ]
    }
   ],
   "source": [
    "# Step 4: Test different lag windows\n",
    "cat(\"🔬 Testing different lag windows...\\n\\n\")\n",
    "\n",
    "# Define lag windows to test\n",
    "lag_windows <- c(0, 7, 14, 21, 28, 35)\n",
    "\n",
    "# Store results\n",
    "results <- data.frame(\n",
    "    lag_days = lag_windows,\n",
    "    aic = NA,\n",
    "    r2 = NA,\n",
    "    sample_size = NA\n",
    ")\n",
    "\n",
    "# Test each lag window\n",
    "for (i in 1:length(lag_windows)) {\n",
    "    lag <- lag_windows[i]\n",
    "    \n",
    "    if (nrow(clean_data) > lag + 20) {  # Ensure enough data\n",
    "        result <- test_lag_model(clean_data$temp, clean_data$glucose, lag)\n",
    "        \n",
    "        results$aic[i] <- result$aic\n",
    "        results$r2[i] <- result$r2\n",
    "        results$sample_size[i] <- result$n\n",
    "        \n",
    "        if (!is.na(result$aic)) {\n",
    "            cat(sprintf(\"Lag %2d days: AIC = %7.1f, R² = %.4f, n = %4d\\n\", \n",
    "                       lag, result$aic, result$r2, result$n))\n",
    "        } else {\n",
    "            cat(sprintf(\"Lag %2d days: Insufficient data\\n\", lag))\n",
    "        }\n",
    "    } else {\n",
    "        cat(sprintf(\"Lag %2d days: Not enough data after lagging\\n\", lag))\n",
    "    }\n",
    "}\n",
    "\n",
    "cat(\"\\n📊 Results summary:\\n\")\n",
    "print(results)"
   ]
  },
  {
   "cell_type": "code",
   "execution_count": 5,
   "metadata": {},
   "outputs": [
    {
     "name": "stdout",
     "output_type": "stream",
     "text": [
      "\n",
      "🎯 ANALYSIS RESULTS\n",
      "==================\n",
      "📊 Best performing lag window: 35 days\n",
      "📊 XAI identified optimal lag: 21 days\n",
      "📊 Best AIC: 4767.7 \n",
      "📊 Best R²: 0.0027 \n",
      "\n",
      "🔍 VALIDATION ASSESSMENT:\n",
      "-------------------------\n",
      "⚠️ MODERATE VALIDATION: DLNM suggests 35 days (within 2 weeks of XAI)\n",
      "\n",
      "📋 SUMMARY:\n",
      "-----------\n",
      "• XAI method identified 21-day optimal window\n",
      "• DLNM method suggests 35 days \n",
      "• Validation level: Moderate \n",
      "• Sample size: 1219 complete cases\n"
     ]
    }
   ],
   "source": [
    "# Step 5: Find optimal lag and compare with XAI\n",
    "cat(\"\\n🎯 ANALYSIS RESULTS\\n\")\n",
    "cat(\"==================\\n\")\n",
    "\n",
    "# Find best model (lowest AIC among valid results)\n",
    "valid_results <- !is.na(results$aic)\n",
    "\n",
    "if (sum(valid_results) > 0) {\n",
    "    best_idx <- which.min(results$aic[valid_results])\n",
    "    best_lag <- results$lag_days[valid_results][best_idx]\n",
    "    best_aic <- results$aic[valid_results][best_idx]\n",
    "    best_r2 <- results$r2[valid_results][best_idx]\n",
    "    \n",
    "    cat(\"📊 Best performing lag window:\", best_lag, \"days\\n\")\n",
    "    cat(\"📊 XAI identified optimal lag: 21 days\\n\")\n",
    "    cat(\"📊 Best AIC:\", round(best_aic, 1), \"\\n\")\n",
    "    cat(\"📊 Best R²:\", round(best_r2, 4), \"\\n\")\n",
    "    \n",
    "    # Validation assessment\n",
    "    cat(\"\\n🔍 VALIDATION ASSESSMENT:\\n\")\n",
    "    cat(\"-------------------------\\n\")\n",
    "    \n",
    "    if (best_lag == 21) {\n",
    "        cat(\"✅ PERFECT VALIDATION: DLNM confirms exactly 21 days!\\n\")\n",
    "        validation <- \"Perfect\"\n",
    "    } else if (abs(best_lag - 21) <= 7) {\n",
    "        cat(\"✅ GOOD VALIDATION: DLNM suggests\", best_lag, \"days (within 1 week of XAI)\\n\")\n",
    "        validation <- \"Good\"\n",
    "    } else if (abs(best_lag - 21) <= 14) {\n",
    "        cat(\"⚠️ MODERATE VALIDATION: DLNM suggests\", best_lag, \"days (within 2 weeks of XAI)\\n\")\n",
    "        validation <- \"Moderate\"\n",
    "    } else {\n",
    "        cat(\"⚠️ LIMITED VALIDATION: Significant difference between methods\\n\")\n",
    "        validation <- \"Limited\"\n",
    "    }\n",
    "    \n",
    "} else {\n",
    "    cat(\"❌ No valid models could be fitted\\n\")\n",
    "    best_lag <- NA\n",
    "    validation <- \"Failed\"\n",
    "}\n",
    "\n",
    "cat(\"\\n📋 SUMMARY:\\n\")\n",
    "cat(\"-----------\\n\")\n",
    "cat(\"• XAI method identified 21-day optimal window\\n\")\n",
    "cat(\"• DLNM method suggests\", ifelse(is.na(best_lag), \"NA\", paste(best_lag, \"days\")), \"\\n\")\n",
    "cat(\"• Validation level:\", validation, \"\\n\")\n",
    "cat(\"• Sample size:\", nrow(clean_data), \"complete cases\\n\")"
   ]
  },
  {
   "cell_type": "code",
   "execution_count": 6,
   "metadata": {},
   "outputs": [
    {
     "name": "stdout",
     "output_type": "stream",
     "text": [
      "\n",
      "📊 Creating visualizations...\n"
     ]
    },
    {
     "name": "stderr",
     "output_type": "stream",
     "text": [
      "Warning message:\n",
      "“'newdata' had 50 rows but variables found have 1219 rows”\n"
     ]
    },
    {
     "ename": "ERROR",
     "evalue": "Error in xy.coords(x, y): 'x' and 'y' lengths differ\n",
     "output_type": "error",
     "traceback": [
      "Error in xy.coords(x, y): 'x' and 'y' lengths differ\nTraceback:\n",
      "1. lines.default(temp_seq, smooth_pred, col = \"red\", lwd = 3)",
      "2. plot.xy(xy.coords(x, y), type = type, ...)",
      "3. xy.coords(x, y)",
      "4. stop(\"'x' and 'y' lengths differ\")",
      "5. .handleSimpleError(function (cnd) \n . {\n .     watcher$capture_plot_and_output()\n .     cnd <- sanitize_call(cnd)\n .     watcher$push(cnd)\n .     switch(on_error, continue = invokeRestart(\"eval_continue\"), \n .         stop = invokeRestart(\"eval_stop\"), error = NULL)\n . }, \"'x' and 'y' lengths differ\", base::quote(xy.coords(x, y)))"
     ]
    },
    {
     "data": {
      "image/png": "[encoded data removed]",
      "text/plain": [
       "Plot with title “Temperature-Glucose Relationship”"
      ]
     },
     "metadata": {
      "image/png": {
       "height": 420,
       "width": 420
      }
     },
     "output_type": "display_data"
    }
   ],
   "source": [
    "# Step 6: Create visualization\n",
    "if (sum(valid_results) > 0) {\n",
    "    cat(\"\\n📊 Creating visualizations...\\n\")\n",
    "    \n",
    "    # Set up plot layout\n",
    "    par(mfrow = c(2, 2), mar = c(4, 4, 3, 1))\n",
    "    \n",
    "    # Plot 1: AIC by lag window\n",
    "    valid_data <- results[valid_results, ]\n",
    "    plot(valid_data$lag_days, valid_data$aic, \n",
    "         type = \"b\", pch = 19, col = \"blue\", lwd = 2,\n",
    "         main = \"Model Performance by Lag Window\",\n",
    "         xlab = \"Lag (days)\", ylab = \"AIC (lower = better)\")\n",
    "    abline(v = 21, lty = 2, col = \"red\", lwd = 2)\n",
    "    legend(\"topright\", legend = c(\"DLNM AIC\", \"XAI Optimum (21d)\"), \n",
    "           col = c(\"blue\", \"red\"), lty = c(1, 2), pch = c(19, NA))\n",
    "    \n",
    "    # Plot 2: R² by lag window\n",
    "    plot(valid_data$lag_days, valid_data$r2, \n",
    "         type = \"b\", pch = 19, col = \"darkgreen\", lwd = 2,\n",
    "         main = \"R² by Lag Window\",\n",
    "         xlab = \"Lag (days)\", ylab = \"R² (higher = better)\")\n",
    "    abline(v = 21, lty = 2, col = \"red\", lwd = 2)\n",
    "    \n",
    "    # Plot 3: Temperature vs Glucose relationship\n",
    "    plot(clean_data$temp, clean_data$glucose,\n",
    "         pch = 16, col = rgb(0, 0, 1, 0.3), cex = 0.7,\n",
    "         main = \"Temperature-Glucose Relationship\",\n",
    "         xlab = \"21-day Max Temperature (°C)\",\n",
    "         ylab = \"Glucose Level\")\n",
    "    \n",
    "    # Add smooth line\n",
    "    smooth_fit <- loess(clean_data$glucose ~ clean_data$temp)\n",
    "    temp_seq <- seq(min(clean_data$temp), max(clean_data$temp), length = 50)\n",
    "    smooth_pred <- predict(smooth_fit, newdata = data.frame(temp = temp_seq))\n",
    "    lines(temp_seq, smooth_pred, col = \"red\", lwd = 3)\n",
    "    \n",
    "    # Plot 4: Sample sizes\n",
    "    plot(valid_data$lag_days, valid_data$sample_size,\n",
    "         type = \"b\", pch = 19, col = \"purple\", lwd = 2,\n",
    "         main = \"Sample Size by Lag Window\",\n",
    "         xlab = \"Lag (days)\", ylab = \"Sample Size\")\n",
    "    \n",
    "    par(mfrow = c(1, 1))\n",
    "    \n",
    "    cat(\"✅ Visualizations completed\\n\")\n",
    "}"
   ]
  },
  {
   "cell_type": "code",
   "execution_count": null,
   "metadata": {},
   "outputs": [],
   "source": [
    "# Step 7: Export results\n",
    "cat(\"\\n💾 Exporting results...\\n\")\n",
    "\n",
    "# Create summary for export\n",
    "summary_data <- data.frame(\n",
    "    metric = c(\"sample_size\", \"xai_optimal_lag\", \"dlnm_optimal_lag\", \n",
    "               \"validation_level\", \"best_r2\", \"best_aic\"),\n",
    "    value = c(nrow(clean_data), 21, \n",
    "              ifelse(exists(\"best_lag\") && !is.na(best_lag), best_lag, NA),\n",
    "              ifelse(exists(\"validation\"), validation, \"Unknown\"),\n",
    "              ifelse(exists(\"best_r2\"), round(best_r2, 4), NA),\n",
    "              ifelse(exists(\"best_aic\"), round(best_aic, 1), NA))\n",
    ")\n",
    "\n",
    "# Export results\n",
    "write.csv(results, \n",
    "          \"/home/cparker/heat_analysis_optimized/analysis/dlnm_lag_comparison.csv\", \n",
    "          row.names = FALSE)\n",
    "\n",
    "write.csv(summary_data,\n",
    "          \"/home/cparker/heat_analysis_optimized/analysis/dlnm_validation_summary.csv\",\n",
    "          row.names = FALSE)\n",
    "\n",
    "cat(\"✅ Results exported to:\\n\")\n",
    "cat(\"   • dlnm_lag_comparison.csv\\n\")\n",
    "cat(\"   • dlnm_validation_summary.csv\\n\")\n",
    "\n",
    "cat(\"\\n🎉 DLNM validation analysis complete!\\n\")\n",
    "cat(\"\\n\" , paste(rep(\"=\", 50), collapse = \"\"), \"\\n\")\n",
    "cat(\"CONCLUSION: DLNM\", \n",
    "    ifelse(exists(\"validation\") && validation %in% c(\"Perfect\", \"Good\"), \n",
    "           \"validates\", \"provides mixed evidence for\"), \n",
    "    \"the XAI 21-day finding\\n\")\n",
    "cat(paste(rep(\"=\", 50), collapse = \"\"), \"\\n\")"
   ]
  },
  {
   "cell_type": "code",
   "execution_count": null,
   "metadata": {},
   "outputs": [],
   "source": []
  }
 ],
 "metadata": {
  "kernelspec": {
   "display_name": "R",
   "language": "R",
   "name": "ir"
  },
  "language_info": {
   "codemirror_mode": "r",
   "file_extension": ".r",
   "mimetype": "text/x-r-source",
   "name": "R",
   "pygments_lexer": "r",
   "version": "4.3.1"
  }
 },
 "nbformat": 4,
 "nbformat_minor": 4
}
